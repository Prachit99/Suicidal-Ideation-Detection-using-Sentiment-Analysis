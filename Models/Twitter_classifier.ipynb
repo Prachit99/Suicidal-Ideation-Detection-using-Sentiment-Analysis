{
  "nbformat": 4,
  "nbformat_minor": 0,
  "metadata": {
    "colab": {
      "name": "LSTM.ipynb",
      "provenance": [],
      "collapsed_sections": [],
      "toc_visible": true
    },
    "kernelspec": {
      "display_name": "Python 3",
      "language": "python",
      "name": "python3"
    },
    "language_info": {
      "codemirror_mode": {
        "name": "ipython",
        "version": 3
      },
      "file_extension": ".py",
      "mimetype": "text/x-python",
      "name": "python",
      "nbconvert_exporter": "python",
      "pygments_lexer": "ipython3",
      "version": "3.6.6"
    }
  },
  "cells": [
    {
      "cell_type": "code",
      "metadata": {
        "id": "cZ8KUvmOvgly"
      },
      "source": [
        "import numpy as np # linear algebra\n",
        "import pandas as pd # data processing, CSV file I/O (e.g. pd.read_csv)\n",
        "import re"
      ],
      "execution_count": 7,
      "outputs": []
    },
    {
      "cell_type": "code",
      "metadata": {
        "colab": {
          "base_uri": "https://localhost:8080/"
        },
        "id": "DI_ExBi31zny",
        "outputId": "c75f6d9a-38de-4a58-db3e-08308cd400d5"
      },
      "source": [
        "from google.colab import drive\n",
        "drive.mount('/content/drive')\n",
        "path = \"drive/My Drive/tweets(1).csv\"\n",
        "df = pd.read_csv(path, encoding='ISO-8859-1')"
      ],
      "execution_count": 8,
      "outputs": [
        {
          "output_type": "stream",
          "text": [
            "Drive already mounted at /content/drive; to attempt to forcibly remount, call drive.mount(\"/content/drive\", force_remount=True).\n"
          ],
          "name": "stdout"
        }
      ]
    },
    {
      "cell_type": "code",
      "metadata": {
        "id": "vnoO7FmBvglz",
        "colab": {
          "base_uri": "https://localhost:8080/",
          "height": 430
        },
        "outputId": "fec984bf-e094-41f5-b9f7-7f8f17e8dbe4"
      },
      "source": [
        "pd.set_option('display.max_colwidth', -1)\n",
        "df.head(10)"
      ],
      "execution_count": 9,
      "outputs": [
        {
          "output_type": "stream",
          "text": [
            "/usr/local/lib/python3.7/dist-packages/ipykernel_launcher.py:1: FutureWarning: Passing a negative integer is deprecated in version 1.0 and will not be supported in future version. Instead, use None to not limit the column width.\n",
            "  \"\"\"Entry point for launching an IPython kernel.\n"
          ],
          "name": "stderr"
        },
        {
          "output_type": "execute_result",
          "data": {
            "text/html": [
              "<div>\n",
              "<style scoped>\n",
              "    .dataframe tbody tr th:only-of-type {\n",
              "        vertical-align: middle;\n",
              "    }\n",
              "\n",
              "    .dataframe tbody tr th {\n",
              "        vertical-align: top;\n",
              "    }\n",
              "\n",
              "    .dataframe thead th {\n",
              "        text-align: right;\n",
              "    }\n",
              "</style>\n",
              "<table border=\"1\" class=\"dataframe\">\n",
              "  <thead>\n",
              "    <tr style=\"text-align: right;\">\n",
              "      <th></th>\n",
              "      <th>text</th>\n",
              "      <th>label</th>\n",
              "    </tr>\n",
              "  </thead>\n",
              "  <tbody>\n",
              "    <tr>\n",
              "      <th>0</th>\n",
              "      <td>It's like I have two brains fighting against one another. One doesn't want to die or hurt themselves, while the other wants too. The negative one often wins because I want it to shut up. Idk what's wrong with me. Any answers? Anyone else experience this?</td>\n",
              "      <td>1</td>\n",
              "    </tr>\n",
              "    <tr>\n",
              "      <th>1</th>\n",
              "      <td>there is sadness deep inside my guts It sits next to my anxiety taunting me day and night.</td>\n",
              "      <td>1</td>\n",
              "    </tr>\n",
              "    <tr>\n",
              "      <th>2</th>\n",
              "      <td>i thought i was getting better? like i started taking care of myself and working to make myself feel better but then suddenly, i felt so shitty and now i'm just sitting and trying to breath and get past this tightness in my chest and overthinking everything and i thought i was getting better.</td>\n",
              "      <td>1</td>\n",
              "    </tr>\n",
              "    <tr>\n",
              "      <th>3</th>\n",
              "      <td>is it strange when a part of you wishes to get corona with the hope to die?</td>\n",
              "      <td>1</td>\n",
              "    </tr>\n",
              "    <tr>\n",
              "      <th>4</th>\n",
              "      <td>I cut myself Nothing happens I overdose Nothing happens This life is bullshit Why don't you just kill me? Don't you get it? I hate mylife and I don't want it anymore</td>\n",
              "      <td>1</td>\n",
              "    </tr>\n",
              "    <tr>\n",
              "      <th>5</th>\n",
              "      <td>Why can't I escape my thoughts of suicide and self harm? I feel good! Better than I have in a long time, but I want to die and hurt myself??? I don't understand.</td>\n",
              "      <td>1</td>\n",
              "    </tr>\n",
              "    <tr>\n",
              "      <th>6</th>\n",
              "      <td>Sleep doesn't give me the relief I need from my suffering</td>\n",
              "      <td>1</td>\n",
              "    </tr>\n",
              "    <tr>\n",
              "      <th>7</th>\n",
              "      <td>Why do I even fucking bother anymore. My existence is a mistake.</td>\n",
              "      <td>1</td>\n",
              "    </tr>\n",
              "    <tr>\n",
              "      <th>8</th>\n",
              "      <td>Terrible things keep happening. And like, I don at have the capacity to deal with any of it anymore.</td>\n",
              "      <td>1</td>\n",
              "    </tr>\n",
              "    <tr>\n",
              "      <th>9</th>\n",
              "      <td>Bout to depression buy these OnlyFans while Im in quarantine now</td>\n",
              "      <td>0</td>\n",
              "    </tr>\n",
              "  </tbody>\n",
              "</table>\n",
              "</div>"
            ],
            "text/plain": [
              "                                                                                                                                                                                                                                                                                                    text  label\n",
              "0  It's like I have two brains fighting against one another. One doesn't want to die or hurt themselves, while the other wants too. The negative one often wins because I want it to shut up. Idk what's wrong with me. Any answers? Anyone else experience this?                                         1    \n",
              "1  there is sadness deep inside my guts It sits next to my anxiety taunting me day and night.                                                                                                                                                                                                             1    \n",
              "2  i thought i was getting better? like i started taking care of myself and working to make myself feel better but then suddenly, i felt so shitty and now i'm just sitting and trying to breath and get past this tightness in my chest and overthinking everything and i thought i was getting better.  1    \n",
              "3  is it strange when a part of you wishes to get corona with the hope to die?                                                                                                                                                                                                                            1    \n",
              "4  I cut myself Nothing happens I overdose Nothing happens This life is bullshit Why don't you just kill me? Don't you get it? I hate mylife and I don't want it anymore                                                                                                                                  1    \n",
              "5  Why can't I escape my thoughts of suicide and self harm? I feel good! Better than I have in a long time, but I want to die and hurt myself??? I don't understand.                                                                                                                                      1    \n",
              "6  Sleep doesn't give me the relief I need from my suffering                                                                                                                                                                                                                                              1    \n",
              "7  Why do I even fucking bother anymore. My existence is a mistake.                                                                                                                                                                                                                                       1    \n",
              "8  Terrible things keep happening. And like, I don at have the capacity to deal with any of it anymore.                                                                                                                                                                                                   1    \n",
              "9  Bout to depression buy these OnlyFans while Im in quarantine now                                                                                                                                                                                                                                      0    "
            ]
          },
          "metadata": {
            "tags": []
          },
          "execution_count": 9
        }
      ]
    },
    {
      "cell_type": "code",
      "metadata": {
        "id": "PCUt7LLZm3sA",
        "colab": {
          "base_uri": "https://localhost:8080/",
          "height": 284
        },
        "outputId": "e759ff25-5e18-457f-d0c4-5a706454439e"
      },
      "source": [
        "df.describe()"
      ],
      "execution_count": 10,
      "outputs": [
        {
          "output_type": "execute_result",
          "data": {
            "text/html": [
              "<div>\n",
              "<style scoped>\n",
              "    .dataframe tbody tr th:only-of-type {\n",
              "        vertical-align: middle;\n",
              "    }\n",
              "\n",
              "    .dataframe tbody tr th {\n",
              "        vertical-align: top;\n",
              "    }\n",
              "\n",
              "    .dataframe thead th {\n",
              "        text-align: right;\n",
              "    }\n",
              "</style>\n",
              "<table border=\"1\" class=\"dataframe\">\n",
              "  <thead>\n",
              "    <tr style=\"text-align: right;\">\n",
              "      <th></th>\n",
              "      <th>label</th>\n",
              "    </tr>\n",
              "  </thead>\n",
              "  <tbody>\n",
              "    <tr>\n",
              "      <th>count</th>\n",
              "      <td>6200.000000</td>\n",
              "    </tr>\n",
              "    <tr>\n",
              "      <th>mean</th>\n",
              "      <td>0.190484</td>\n",
              "    </tr>\n",
              "    <tr>\n",
              "      <th>std</th>\n",
              "      <td>0.392714</td>\n",
              "    </tr>\n",
              "    <tr>\n",
              "      <th>min</th>\n",
              "      <td>0.000000</td>\n",
              "    </tr>\n",
              "    <tr>\n",
              "      <th>25%</th>\n",
              "      <td>0.000000</td>\n",
              "    </tr>\n",
              "    <tr>\n",
              "      <th>50%</th>\n",
              "      <td>0.000000</td>\n",
              "    </tr>\n",
              "    <tr>\n",
              "      <th>75%</th>\n",
              "      <td>0.000000</td>\n",
              "    </tr>\n",
              "    <tr>\n",
              "      <th>max</th>\n",
              "      <td>1.000000</td>\n",
              "    </tr>\n",
              "  </tbody>\n",
              "</table>\n",
              "</div>"
            ],
            "text/plain": [
              "             label\n",
              "count  6200.000000\n",
              "mean   0.190484   \n",
              "std    0.392714   \n",
              "min    0.000000   \n",
              "25%    0.000000   \n",
              "50%    0.000000   \n",
              "75%    0.000000   \n",
              "max    1.000000   "
            ]
          },
          "metadata": {
            "tags": []
          },
          "execution_count": 10
        }
      ]
    },
    {
      "cell_type": "code",
      "metadata": {
        "id": "CnYW4mZivglz",
        "colab": {
          "base_uri": "https://localhost:8080/"
        },
        "outputId": "29fc1205-ae68-44a8-f412-146966862693"
      },
      "source": [
        "df.count()"
      ],
      "execution_count": 11,
      "outputs": [
        {
          "output_type": "execute_result",
          "data": {
            "text/plain": [
              "text     6200\n",
              "label    6200\n",
              "dtype: int64"
            ]
          },
          "metadata": {
            "tags": []
          },
          "execution_count": 11
        }
      ]
    },
    {
      "cell_type": "markdown",
      "metadata": {
        "id": "s-0DN0rLvgl0"
      },
      "source": [
        "Dropping duplicates and NaN from the dataframe"
      ]
    },
    {
      "cell_type": "code",
      "metadata": {
        "id": "ScH1ggaGvgl0"
      },
      "source": [
        "df = df.dropna()\n",
        "df = df.drop_duplicates()"
      ],
      "execution_count": 12,
      "outputs": []
    },
    {
      "cell_type": "code",
      "metadata": {
        "id": "3fuRCWLGvgl0",
        "colab": {
          "base_uri": "https://localhost:8080/"
        },
        "outputId": "a678f96f-a5c3-474b-db95-2ec6d21b2c52"
      },
      "source": [
        "df.count()"
      ],
      "execution_count": 13,
      "outputs": [
        {
          "output_type": "execute_result",
          "data": {
            "text/plain": [
              "text     6139\n",
              "label    6139\n",
              "dtype: int64"
            ]
          },
          "metadata": {
            "tags": []
          },
          "execution_count": 13
        }
      ]
    },
    {
      "cell_type": "code",
      "metadata": {
        "id": "VWpZO9fuhFuO",
        "colab": {
          "base_uri": "https://localhost:8080/"
        },
        "outputId": "e24a54a1-1a85-4d13-f4ed-6e9fce2980e4"
      },
      "source": [
        "import re\n",
        "import string\n",
        "import numpy as np\n",
        "import nltk\n",
        "stopwords = nltk.download('stopwords')\n",
        "from nltk.stem import PorterStemmer\n",
        "from nltk.tokenize import TweetTokenizer\n",
        "\n",
        "\n",
        "\n",
        "def remove_contractions(tweet):\n",
        "    tweet = str(tweet)\n",
        "    # Contractions\n",
        "    tweet = re.sub(r\"\\x89Ûª\", \"'\", tweet)\n",
        "    tweet = re.sub(r\"he's\", \"he is\", tweet)\n",
        "    tweet = re.sub(r\"there's\", \"there is\", tweet)\n",
        "    tweet = re.sub(r\"We're\", \"We are\", tweet)\n",
        "    tweet = re.sub(r\"That's\", \"That is\", tweet)\n",
        "    tweet = re.sub(r\"won't\", \"will not\", tweet)\n",
        "    tweet = re.sub(r\"they're\", \"they are\", tweet)\n",
        "    tweet = re.sub(r\"Can't\", \"Cannot\", tweet)\n",
        "    tweet = re.sub(r\"wasn't\", \"was not\", tweet)\n",
        "    tweet = re.sub(r\"don\\x89Ûªt\", \"do not\", tweet)\n",
        "    tweet = re.sub(r\"aren't\", \"are not\", tweet)\n",
        "    tweet = re.sub(r\"isn't\", \"is not\", tweet)\n",
        "    tweet = re.sub(r\"What's\", \"What is\", tweet)\n",
        "    tweet = re.sub(r\"haven't\", \"have not\", tweet)\n",
        "    tweet = re.sub(r\"hasn't\", \"has not\", tweet)\n",
        "    tweet = re.sub(r\"There's\", \"There is\", tweet)\n",
        "    tweet = re.sub(r\"He's\", \"He is\", tweet)\n",
        "    tweet = re.sub(r\"It's\", \"It is\", tweet)\n",
        "    tweet = re.sub(r\"You're\", \"You are\", tweet)\n",
        "    tweet = re.sub(r\"I'M\", \"I am\", tweet)\n",
        "    tweet = re.sub(r\"shouldn't\", \"should not\", tweet)\n",
        "    tweet = re.sub(r\"wouldn't\", \"would not\", tweet)\n",
        "    tweet = re.sub(r\"i'm\", \"I am\", tweet)\n",
        "    tweet = re.sub(r\"I\\x89Ûªm\", \"I am\", tweet)\n",
        "    tweet = re.sub(r\"I'm\", \"I am\", tweet)\n",
        "    tweet = re.sub(r\"Isn't\", \"is not\", tweet)\n",
        "    tweet = re.sub(r\"Here's\", \"Here is\", tweet)\n",
        "    tweet = re.sub(r\"you've\", \"you have\", tweet)\n",
        "    tweet = re.sub(r\"you\\x89Ûªve\", \"you have\", tweet)\n",
        "    tweet = re.sub(r\"we're\", \"we are\", tweet)\n",
        "    tweet = re.sub(r\"what's\", \"what is\", tweet)\n",
        "    tweet = re.sub(r\"couldn't\", \"could not\", tweet)\n",
        "    tweet = re.sub(r\"we've\", \"we have\", tweet)\n",
        "    tweet = re.sub(r\"it\\x89Ûªs\", \"it is\", tweet)\n",
        "    tweet = re.sub(r\"doesn\\x89Ûªt\", \"does not\", tweet)\n",
        "    tweet = re.sub(r\"It\\x89Ûªs\", \"It is\", tweet)\n",
        "    tweet = re.sub(r\"Here\\x89Ûªs\", \"Here is\", tweet)\n",
        "    tweet = re.sub(r\"who's\", \"who is\", tweet)\n",
        "    tweet = re.sub(r\"I\\x89Ûªve\", \"I have\", tweet)\n",
        "    tweet = re.sub(r\"y'all\", \"you all\", tweet)\n",
        "    tweet = re.sub(r\"can\\x89Ûªt\", \"cannot\", tweet)\n",
        "    tweet = re.sub(r\"would've\", \"would have\", tweet)\n",
        "    tweet = re.sub(r\"it'll\", \"it will\", tweet)\n",
        "    tweet = re.sub(r\"we'll\", \"we will\", tweet)\n",
        "    tweet = re.sub(r\"wouldn\\x89Ûªt\", \"would not\", tweet)\n",
        "    tweet = re.sub(r\"We've\", \"We have\", tweet)\n",
        "    tweet = re.sub(r\"he'll\", \"he will\", tweet)\n",
        "    tweet = re.sub(r\"Y'all\", \"You all\", tweet)\n",
        "    tweet = re.sub(r\"Weren't\", \"Were not\", tweet)\n",
        "    tweet = re.sub(r\"Didn't\", \"Did not\", tweet)\n",
        "    tweet = re.sub(r\"they'll\", \"they will\", tweet)\n",
        "    tweet = re.sub(r\"they'd\", \"they would\", tweet)\n",
        "    tweet = re.sub(r\"DON'T\", \"DO NOT\", tweet)\n",
        "    tweet = re.sub(r\"That\\x89Ûªs\", \"That is\", tweet)\n",
        "    tweet = re.sub(r\"they've\", \"they have\", tweet)\n",
        "    tweet = re.sub(r\"i'd\", \"I would\", tweet)\n",
        "    tweet = re.sub(r\"should've\", \"should have\", tweet)\n",
        "    tweet = re.sub(r\"You\\x89Ûªre\", \"You are\", tweet)\n",
        "    tweet = re.sub(r\"where's\", \"where is\", tweet)\n",
        "    tweet = re.sub(r\"Don\\x89Ûªt\", \"Do not\", tweet)\n",
        "    tweet = re.sub(r\"we'd\", \"we would\", tweet)\n",
        "    tweet = re.sub(r\"i'll\", \"I will\", tweet)\n",
        "    tweet = re.sub(r\"weren't\", \"were not\", tweet)\n",
        "    tweet = re.sub(r\"They're\", \"They are\", tweet)\n",
        "    tweet = re.sub(r\"Can\\x89Ûªt\", \"Cannot\", tweet)\n",
        "    tweet = re.sub(r\"you\\x89Ûªll\", \"you will\", tweet)\n",
        "    tweet = re.sub(r\"I\\x89Ûªd\", \"I would\", tweet)\n",
        "    tweet = re.sub(r\"let's\", \"let us\", tweet)\n",
        "    tweet = re.sub(r\"it's\", \"it is\", tweet)\n",
        "    tweet = re.sub(r\"can't\", \"cannot\", tweet)\n",
        "    tweet = re.sub(r\"don't\", \"do not\", tweet)\n",
        "    tweet = re.sub(r\"you're\", \"you are\", tweet)\n",
        "    tweet = re.sub(r\"i've\", \"I have\", tweet)\n",
        "    tweet = re.sub(r\"that's\", \"that is\", tweet)\n",
        "    tweet = re.sub(r\"i'll\", \"I will\", tweet)\n",
        "    tweet = re.sub(r\"doesn't\", \"does not\", tweet)\n",
        "    tweet = re.sub(r\"i'd\", \"I would\", tweet)\n",
        "    tweet = re.sub(r\"didn't\", \"did not\", tweet)\n",
        "    tweet = re.sub(r\"ain't\", \"am not\", tweet)\n",
        "    tweet = re.sub(r\"you'll\", \"you will\", tweet)\n",
        "    tweet = re.sub(r\"I've\", \"I have\", tweet)\n",
        "    tweet = re.sub(r\"Don't\", \"do not\", tweet)\n",
        "    tweet = re.sub(r\"I'll\", \"I will\", tweet)\n",
        "    tweet = re.sub(r\"I'd\", \"I would\", tweet)\n",
        "    tweet = re.sub(r\"Let's\", \"Let us\", tweet)\n",
        "    tweet = re.sub(r\"you'd\", \"You would\", tweet)\n",
        "    tweet = re.sub(r\"It's\", \"It is\", tweet)\n",
        "    tweet = re.sub(r\"Ain't\", \"am not\", tweet)\n",
        "    tweet = re.sub(r\"Haven't\", \"Have not\", tweet)\n",
        "    tweet = re.sub(r\"Could've\", \"Could have\", tweet)\n",
        "    tweet = re.sub(r\"youve\", \"you have\", tweet)  \n",
        "    tweet = re.sub(r\"donå«t\", \"do not\", tweet)   \n",
        "            \n",
        "    # Character entity references\n",
        "    tweet = re.sub(r\"&amp;\", \"&\", tweet)\n",
        "    return tweet\n",
        "\n",
        "\n",
        "def process_tweet(tweet):\n",
        "    \"\"\"Process tweet function.\n",
        "    Input:\n",
        "        tweet: a string containing a tweet\n",
        "    Output:\n",
        "        tweets_clean: a list of words containing the processed tweet\n",
        "    \"\"\"\n",
        "    tweet = str(tweet)\n",
        "    stemmer = PorterStemmer()\n",
        "    # stopwords_english = nltk.download('stopwords').words('english')\n",
        "    stopwords_english = set(nltk.corpus.stopwords.words('english'))\n",
        "\n",
        "    # remove stock market tickers like $GE\n",
        "    tweet = re.sub(r'\\$\\w*', '', tweet)\n",
        "\n",
        "    # remove old style retweet text \"RT\"\n",
        "    tweet = re.sub(r'^RT[\\s]+', '', tweet)\n",
        "\n",
        "    # remove hyperlinks\n",
        "    tweet = re.sub(r'https?:\\/\\/.*[\\r\\n]*', '', tweet)\n",
        "\n",
        "    # remove hashtags\n",
        "    # only removing the hash # sign from the word\n",
        "    tweet = re.sub(r'#', '', tweet)\n",
        "\n",
        "    # tokenize tweets\n",
        "    tokenizer = TweetTokenizer(preserve_case=False, strip_handles=True, reduce_len=True)\n",
        "    tweet_tokens = tokenizer.tokenize(tweet)\n",
        "\n",
        "    #remove contractions\n",
        "    tweet = remove_contractions(tweet)\n",
        "    \n",
        "    tweets_clean = []\n",
        "    for word in tweet_tokens:\n",
        "        if (word not in stopwords_english and word not in string.punctuation):\n",
        "            stem_word = stemmer.stem(word)\n",
        "            tweets_clean.append(stem_word)\n",
        "    \n",
        "    clean_tweet = ' '.join(map(str, tweets_clean))\n",
        "    return clean_tweet"
      ],
      "execution_count": 14,
      "outputs": [
        {
          "output_type": "stream",
          "text": [
            "[nltk_data] Downloading package stopwords to /root/nltk_data...\n",
            "[nltk_data]   Unzipping corpora/stopwords.zip.\n"
          ],
          "name": "stdout"
        }
      ]
    },
    {
      "cell_type": "code",
      "metadata": {
        "id": "CwanIPAp5l3V",
        "colab": {
          "base_uri": "https://localhost:8080/",
          "height": 343
        },
        "outputId": "dad1e1b2-0292-4f9e-eed5-d4ab1ff122f3"
      },
      "source": [
        "df.tail(10)\n"
      ],
      "execution_count": 15,
      "outputs": [
        {
          "output_type": "execute_result",
          "data": {
            "text/html": [
              "<div>\n",
              "<style scoped>\n",
              "    .dataframe tbody tr th:only-of-type {\n",
              "        vertical-align: middle;\n",
              "    }\n",
              "\n",
              "    .dataframe tbody tr th {\n",
              "        vertical-align: top;\n",
              "    }\n",
              "\n",
              "    .dataframe thead th {\n",
              "        text-align: right;\n",
              "    }\n",
              "</style>\n",
              "<table border=\"1\" class=\"dataframe\">\n",
              "  <thead>\n",
              "    <tr style=\"text-align: right;\">\n",
              "      <th></th>\n",
              "      <th>text</th>\n",
              "      <th>label</th>\n",
              "    </tr>\n",
              "  </thead>\n",
              "  <tbody>\n",
              "    <tr>\n",
              "      <th>6190</th>\n",
              "      <td>I am so happy today</td>\n",
              "      <td>0</td>\n",
              "    </tr>\n",
              "    <tr>\n",
              "      <th>6191</th>\n",
              "      <td>That was the best game ever</td>\n",
              "      <td>0</td>\n",
              "    </tr>\n",
              "    <tr>\n",
              "      <th>6192</th>\n",
              "      <td>This is so good</td>\n",
              "      <td>0</td>\n",
              "    </tr>\n",
              "    <tr>\n",
              "      <th>6193</th>\n",
              "      <td>What a beautiful day today!</td>\n",
              "      <td>0</td>\n",
              "    </tr>\n",
              "    <tr>\n",
              "      <th>6194</th>\n",
              "      <td>I made the best cake ever today</td>\n",
              "      <td>0</td>\n",
              "    </tr>\n",
              "    <tr>\n",
              "      <th>6195</th>\n",
              "      <td>Check out this post. This is so awesome!!!</td>\n",
              "      <td>0</td>\n",
              "    </tr>\n",
              "    <tr>\n",
              "      <th>6196</th>\n",
              "      <td>OMG! Look at her dress. So beautiful</td>\n",
              "      <td>0</td>\n",
              "    </tr>\n",
              "    <tr>\n",
              "      <th>6197</th>\n",
              "      <td>Sunsets are the best time of the day</td>\n",
              "      <td>0</td>\n",
              "    </tr>\n",
              "    <tr>\n",
              "      <th>6198</th>\n",
              "      <td>I have got the bestest friends! Checkout what we did today</td>\n",
              "      <td>0</td>\n",
              "    </tr>\n",
              "    <tr>\n",
              "      <th>6199</th>\n",
              "      <td>Beach walks are love!</td>\n",
              "      <td>0</td>\n",
              "    </tr>\n",
              "  </tbody>\n",
              "</table>\n",
              "</div>"
            ],
            "text/plain": [
              "                                                            text  label\n",
              "6190  I am so happy today                                         0    \n",
              "6191  That was the best game ever                                 0    \n",
              "6192  This is so good                                             0    \n",
              "6193  What a beautiful day today!                                 0    \n",
              "6194  I made the best cake ever today                             0    \n",
              "6195  Check out this post. This is so awesome!!!                  0    \n",
              "6196  OMG! Look at her dress. So beautiful                        0    \n",
              "6197  Sunsets are the best time of the day                        0    \n",
              "6198  I have got the bestest friends! Checkout what we did today  0    \n",
              "6199  Beach walks are love!                                       0    "
            ]
          },
          "metadata": {
            "tags": []
          },
          "execution_count": 15
        }
      ]
    },
    {
      "cell_type": "code",
      "metadata": {
        "id": "LkKOf5BiDVWV",
        "colab": {
          "base_uri": "https://localhost:8080/",
          "height": 377
        },
        "outputId": "22013f3a-0e7c-47a8-dd29-7cda7ed2cd74"
      },
      "source": [
        "df['text'] = df['text'].str.lower().str.replace('[^\\w\\s]',' ').str.replace('\\s\\s+', ' ')\n",
        "df.head(10)"
      ],
      "execution_count": 16,
      "outputs": [
        {
          "output_type": "execute_result",
          "data": {
            "text/html": [
              "<div>\n",
              "<style scoped>\n",
              "    .dataframe tbody tr th:only-of-type {\n",
              "        vertical-align: middle;\n",
              "    }\n",
              "\n",
              "    .dataframe tbody tr th {\n",
              "        vertical-align: top;\n",
              "    }\n",
              "\n",
              "    .dataframe thead th {\n",
              "        text-align: right;\n",
              "    }\n",
              "</style>\n",
              "<table border=\"1\" class=\"dataframe\">\n",
              "  <thead>\n",
              "    <tr style=\"text-align: right;\">\n",
              "      <th></th>\n",
              "      <th>text</th>\n",
              "      <th>label</th>\n",
              "    </tr>\n",
              "  </thead>\n",
              "  <tbody>\n",
              "    <tr>\n",
              "      <th>0</th>\n",
              "      <td>it s like i have two brains fighting against one another one doesn t want to die or hurt themselves while the other wants too the negative one often wins because i want it to shut up idk what s wrong with me any answers anyone else experience this</td>\n",
              "      <td>1</td>\n",
              "    </tr>\n",
              "    <tr>\n",
              "      <th>1</th>\n",
              "      <td>there is sadness deep inside my guts it sits next to my anxiety taunting me day and night</td>\n",
              "      <td>1</td>\n",
              "    </tr>\n",
              "    <tr>\n",
              "      <th>2</th>\n",
              "      <td>i thought i was getting better like i started taking care of myself and working to make myself feel better but then suddenly i felt so shitty and now i m just sitting and trying to breath and get past this tightness in my chest and overthinking everything and i thought i was getting better</td>\n",
              "      <td>1</td>\n",
              "    </tr>\n",
              "    <tr>\n",
              "      <th>3</th>\n",
              "      <td>is it strange when a part of you wishes to get corona with the hope to die</td>\n",
              "      <td>1</td>\n",
              "    </tr>\n",
              "    <tr>\n",
              "      <th>4</th>\n",
              "      <td>i cut myself nothing happens i overdose nothing happens this life is bullshit why don t you just kill me don t you get it i hate mylife and i don t want it anymore</td>\n",
              "      <td>1</td>\n",
              "    </tr>\n",
              "    <tr>\n",
              "      <th>5</th>\n",
              "      <td>why can t i escape my thoughts of suicide and self harm i feel good better than i have in a long time but i want to die and hurt myself i don t understand</td>\n",
              "      <td>1</td>\n",
              "    </tr>\n",
              "    <tr>\n",
              "      <th>6</th>\n",
              "      <td>sleep doesn t give me the relief i need from my suffering</td>\n",
              "      <td>1</td>\n",
              "    </tr>\n",
              "    <tr>\n",
              "      <th>7</th>\n",
              "      <td>why do i even fucking bother anymore my existence is a mistake</td>\n",
              "      <td>1</td>\n",
              "    </tr>\n",
              "    <tr>\n",
              "      <th>8</th>\n",
              "      <td>terrible things keep happening and like i don at have the capacity to deal with any of it anymore</td>\n",
              "      <td>1</td>\n",
              "    </tr>\n",
              "    <tr>\n",
              "      <th>9</th>\n",
              "      <td>bout to depression buy these onlyfans while i m in quarantine now</td>\n",
              "      <td>0</td>\n",
              "    </tr>\n",
              "  </tbody>\n",
              "</table>\n",
              "</div>"
            ],
            "text/plain": [
              "                                                                                                                                                                                                                                                                                                  text  label\n",
              "0  it s like i have two brains fighting against one another one doesn t want to die or hurt themselves while the other wants too the negative one often wins because i want it to shut up idk what s wrong with me any answers anyone else experience this                                              1    \n",
              "1  there is sadness deep inside my guts it sits next to my anxiety taunting me day and night                                                                                                                                                                                                            1    \n",
              "2  i thought i was getting better like i started taking care of myself and working to make myself feel better but then suddenly i felt so shitty and now i m just sitting and trying to breath and get past this tightness in my chest and overthinking everything and i thought i was getting better   1    \n",
              "3  is it strange when a part of you wishes to get corona with the hope to die                                                                                                                                                                                                                           1    \n",
              "4  i cut myself nothing happens i overdose nothing happens this life is bullshit why don t you just kill me don t you get it i hate mylife and i don t want it anymore                                                                                                                                  1    \n",
              "5  why can t i escape my thoughts of suicide and self harm i feel good better than i have in a long time but i want to die and hurt myself i don t understand                                                                                                                                           1    \n",
              "6  sleep doesn t give me the relief i need from my suffering                                                                                                                                                                                                                                            1    \n",
              "7  why do i even fucking bother anymore my existence is a mistake                                                                                                                                                                                                                                       1    \n",
              "8  terrible things keep happening and like i don at have the capacity to deal with any of it anymore                                                                                                                                                                                                    1    \n",
              "9  bout to depression buy these onlyfans while i m in quarantine now                                                                                                                                                                                                                                    0    "
            ]
          },
          "metadata": {
            "tags": []
          },
          "execution_count": 16
        }
      ]
    },
    {
      "cell_type": "code",
      "metadata": {
        "id": "iU5w4gIQo5uq"
      },
      "source": [
        "df['text'] = df['text'].apply(lambda tweet: process_tweet(tweet))"
      ],
      "execution_count": 17,
      "outputs": []
    },
    {
      "cell_type": "code",
      "metadata": {
        "id": "eKwTfIBKDYvn",
        "colab": {
          "base_uri": "https://localhost:8080/",
          "height": 343
        },
        "outputId": "e4dd3286-bc0a-4a9a-96d6-c3499034c75c"
      },
      "source": [
        "df.head(10)"
      ],
      "execution_count": 18,
      "outputs": [
        {
          "output_type": "execute_result",
          "data": {
            "text/html": [
              "<div>\n",
              "<style scoped>\n",
              "    .dataframe tbody tr th:only-of-type {\n",
              "        vertical-align: middle;\n",
              "    }\n",
              "\n",
              "    .dataframe tbody tr th {\n",
              "        vertical-align: top;\n",
              "    }\n",
              "\n",
              "    .dataframe thead th {\n",
              "        text-align: right;\n",
              "    }\n",
              "</style>\n",
              "<table border=\"1\" class=\"dataframe\">\n",
              "  <thead>\n",
              "    <tr style=\"text-align: right;\">\n",
              "      <th></th>\n",
              "      <th>text</th>\n",
              "      <th>label</th>\n",
              "    </tr>\n",
              "  </thead>\n",
              "  <tbody>\n",
              "    <tr>\n",
              "      <th>0</th>\n",
              "      <td>like two brain fight one anoth one want die hurt want neg one often win want shut idk wrong answer anyon els experi</td>\n",
              "      <td>1</td>\n",
              "    </tr>\n",
              "    <tr>\n",
              "      <th>1</th>\n",
              "      <td>sad deep insid gut sit next anxieti taunt day night</td>\n",
              "      <td>1</td>\n",
              "    </tr>\n",
              "    <tr>\n",
              "      <th>2</th>\n",
              "      <td>thought get better like start take care work make feel better suddenli felt shitti sit tri breath get past tight chest overthink everyth thought get better</td>\n",
              "      <td>1</td>\n",
              "    </tr>\n",
              "    <tr>\n",
              "      <th>3</th>\n",
              "      <td>strang part wish get corona hope die</td>\n",
              "      <td>1</td>\n",
              "    </tr>\n",
              "    <tr>\n",
              "      <th>4</th>\n",
              "      <td>cut noth happen overdos noth happen life bullshit kill get hate mylif want anymor</td>\n",
              "      <td>1</td>\n",
              "    </tr>\n",
              "    <tr>\n",
              "      <th>5</th>\n",
              "      <td>escap thought suicid self harm feel good better long time want die hurt understand</td>\n",
              "      <td>1</td>\n",
              "    </tr>\n",
              "    <tr>\n",
              "      <th>6</th>\n",
              "      <td>sleep give relief need suffer</td>\n",
              "      <td>1</td>\n",
              "    </tr>\n",
              "    <tr>\n",
              "      <th>7</th>\n",
              "      <td>even fuck bother anymor exist mistak</td>\n",
              "      <td>1</td>\n",
              "    </tr>\n",
              "    <tr>\n",
              "      <th>8</th>\n",
              "      <td>terribl thing keep happen like capac deal anymor</td>\n",
              "      <td>1</td>\n",
              "    </tr>\n",
              "    <tr>\n",
              "      <th>9</th>\n",
              "      <td>bout depress buy onlyfan quarantin</td>\n",
              "      <td>0</td>\n",
              "    </tr>\n",
              "  </tbody>\n",
              "</table>\n",
              "</div>"
            ],
            "text/plain": [
              "                                                                                                                                                          text  label\n",
              "0  like two brain fight one anoth one want die hurt want neg one often win want shut idk wrong answer anyon els experi                                          1    \n",
              "1  sad deep insid gut sit next anxieti taunt day night                                                                                                          1    \n",
              "2  thought get better like start take care work make feel better suddenli felt shitti sit tri breath get past tight chest overthink everyth thought get better  1    \n",
              "3  strang part wish get corona hope die                                                                                                                         1    \n",
              "4  cut noth happen overdos noth happen life bullshit kill get hate mylif want anymor                                                                            1    \n",
              "5  escap thought suicid self harm feel good better long time want die hurt understand                                                                           1    \n",
              "6  sleep give relief need suffer                                                                                                                                1    \n",
              "7  even fuck bother anymor exist mistak                                                                                                                         1    \n",
              "8  terribl thing keep happen like capac deal anymor                                                                                                             1    \n",
              "9  bout depress buy onlyfan quarantin                                                                                                                           0    "
            ]
          },
          "metadata": {
            "tags": []
          },
          "execution_count": 18
        }
      ]
    },
    {
      "cell_type": "markdown",
      "metadata": {
        "id": "ukZinQ5gvgl0"
      },
      "source": [
        "Tweet has been cleaned to normal text."
      ]
    },
    {
      "cell_type": "code",
      "metadata": {
        "id": "V8u2jRZFvgl0",
        "colab": {
          "base_uri": "https://localhost:8080/",
          "height": 343
        },
        "outputId": "ee55350a-09bc-45a9-b83f-0b7c4159abda"
      },
      "source": [
        "df.head(10)"
      ],
      "execution_count": 19,
      "outputs": [
        {
          "output_type": "execute_result",
          "data": {
            "text/html": [
              "<div>\n",
              "<style scoped>\n",
              "    .dataframe tbody tr th:only-of-type {\n",
              "        vertical-align: middle;\n",
              "    }\n",
              "\n",
              "    .dataframe tbody tr th {\n",
              "        vertical-align: top;\n",
              "    }\n",
              "\n",
              "    .dataframe thead th {\n",
              "        text-align: right;\n",
              "    }\n",
              "</style>\n",
              "<table border=\"1\" class=\"dataframe\">\n",
              "  <thead>\n",
              "    <tr style=\"text-align: right;\">\n",
              "      <th></th>\n",
              "      <th>text</th>\n",
              "      <th>label</th>\n",
              "    </tr>\n",
              "  </thead>\n",
              "  <tbody>\n",
              "    <tr>\n",
              "      <th>0</th>\n",
              "      <td>like two brain fight one anoth one want die hurt want neg one often win want shut idk wrong answer anyon els experi</td>\n",
              "      <td>1</td>\n",
              "    </tr>\n",
              "    <tr>\n",
              "      <th>1</th>\n",
              "      <td>sad deep insid gut sit next anxieti taunt day night</td>\n",
              "      <td>1</td>\n",
              "    </tr>\n",
              "    <tr>\n",
              "      <th>2</th>\n",
              "      <td>thought get better like start take care work make feel better suddenli felt shitti sit tri breath get past tight chest overthink everyth thought get better</td>\n",
              "      <td>1</td>\n",
              "    </tr>\n",
              "    <tr>\n",
              "      <th>3</th>\n",
              "      <td>strang part wish get corona hope die</td>\n",
              "      <td>1</td>\n",
              "    </tr>\n",
              "    <tr>\n",
              "      <th>4</th>\n",
              "      <td>cut noth happen overdos noth happen life bullshit kill get hate mylif want anymor</td>\n",
              "      <td>1</td>\n",
              "    </tr>\n",
              "    <tr>\n",
              "      <th>5</th>\n",
              "      <td>escap thought suicid self harm feel good better long time want die hurt understand</td>\n",
              "      <td>1</td>\n",
              "    </tr>\n",
              "    <tr>\n",
              "      <th>6</th>\n",
              "      <td>sleep give relief need suffer</td>\n",
              "      <td>1</td>\n",
              "    </tr>\n",
              "    <tr>\n",
              "      <th>7</th>\n",
              "      <td>even fuck bother anymor exist mistak</td>\n",
              "      <td>1</td>\n",
              "    </tr>\n",
              "    <tr>\n",
              "      <th>8</th>\n",
              "      <td>terribl thing keep happen like capac deal anymor</td>\n",
              "      <td>1</td>\n",
              "    </tr>\n",
              "    <tr>\n",
              "      <th>9</th>\n",
              "      <td>bout depress buy onlyfan quarantin</td>\n",
              "      <td>0</td>\n",
              "    </tr>\n",
              "  </tbody>\n",
              "</table>\n",
              "</div>"
            ],
            "text/plain": [
              "                                                                                                                                                          text  label\n",
              "0  like two brain fight one anoth one want die hurt want neg one often win want shut idk wrong answer anyon els experi                                          1    \n",
              "1  sad deep insid gut sit next anxieti taunt day night                                                                                                          1    \n",
              "2  thought get better like start take care work make feel better suddenli felt shitti sit tri breath get past tight chest overthink everyth thought get better  1    \n",
              "3  strang part wish get corona hope die                                                                                                                         1    \n",
              "4  cut noth happen overdos noth happen life bullshit kill get hate mylif want anymor                                                                            1    \n",
              "5  escap thought suicid self harm feel good better long time want die hurt understand                                                                           1    \n",
              "6  sleep give relief need suffer                                                                                                                                1    \n",
              "7  even fuck bother anymor exist mistak                                                                                                                         1    \n",
              "8  terribl thing keep happen like capac deal anymor                                                                                                             1    \n",
              "9  bout depress buy onlyfan quarantin                                                                                                                           0    "
            ]
          },
          "metadata": {
            "tags": []
          },
          "execution_count": 19
        }
      ]
    },
    {
      "cell_type": "markdown",
      "metadata": {
        "id": "PihAl9fpAkqE"
      },
      "source": [
        "**Sampling to balance out the no. of 1s and 0s**"
      ]
    },
    {
      "cell_type": "code",
      "metadata": {
        "id": "5u-vsyL3AkLK",
        "colab": {
          "base_uri": "https://localhost:8080/"
        },
        "outputId": "7858deac-a36c-4e7c-ee8f-8f08ac25c662"
      },
      "source": [
        "from sklearn.utils import resample\n",
        "df_majority = df[df.label==0]\n",
        "df_minority = df[df.label==1]\n",
        " \n",
        "# Upsample minority class\n",
        "df_minority_upsampled = resample(df_minority, \n",
        "                                 replace=True,     # sample with replacement\n",
        "                                 n_samples=len(df_majority),    # to match majority class\n",
        "                                 random_state=123) # reproducible results\n",
        " \n",
        "# Combine majority class with upsampled minority class\n",
        "df_upsampled = pd.concat([df_majority, df_minority_upsampled])\n",
        " \n",
        "# Display new class counts\n",
        "print(\"Before\")\n",
        "print(df.label.value_counts())\n",
        "print(\"After\")\n",
        "print(df_upsampled.label.value_counts())"
      ],
      "execution_count": 20,
      "outputs": [
        {
          "output_type": "stream",
          "text": [
            "Before\n",
            "0    4960\n",
            "1    1179\n",
            "Name: label, dtype: int64\n",
            "After\n",
            "1    4960\n",
            "0    4960\n",
            "Name: label, dtype: int64\n"
          ],
          "name": "stdout"
        }
      ]
    },
    {
      "cell_type": "markdown",
      "metadata": {
        "id": "B1Y0UEwsPZSy"
      },
      "source": [
        "### **LSTM**"
      ]
    },
    {
      "cell_type": "code",
      "metadata": {
        "id": "Dj2h0CeVPYmu",
        "colab": {
          "base_uri": "https://localhost:8080/",
          "height": 35
        },
        "outputId": "2a587db5-e9f9-48cb-9afc-12ad3633aad7"
      },
      "source": [
        "import tensorflow as tf\n",
        "tf.version.VERSION"
      ],
      "execution_count": 21,
      "outputs": [
        {
          "output_type": "execute_result",
          "data": {
            "application/vnd.google.colaboratory.intrinsic+json": {
              "type": "string"
            },
            "text/plain": [
              "'2.4.1'"
            ]
          },
          "metadata": {
            "tags": []
          },
          "execution_count": 21
        }
      ]
    },
    {
      "cell_type": "code",
      "metadata": {
        "id": "z5F9x5vz55qf"
      },
      "source": [
        "from tensorflow.keras.preprocessing.text import Tokenizer\n",
        "from tensorflow.keras.preprocessing.sequence import pad_sequences"
      ],
      "execution_count": 22,
      "outputs": []
    },
    {
      "cell_type": "code",
      "metadata": {
        "id": "gTtcoV705-Hs"
      },
      "source": [
        "tweet=df_upsampled.text.values\n",
        "tokenizer=Tokenizer(num_words=5000)\n",
        "tokenizer.fit_on_texts(tweet)"
      ],
      "execution_count": 23,
      "outputs": []
    },
    {
      "cell_type": "code",
      "metadata": {
        "id": "amwp36Ks68qF"
      },
      "source": [
        "vocab_size=len(tokenizer.word_index)+1\n",
        "encoded_docs=tokenizer.texts_to_sequences(tweet)\n",
        "padded_sequence = pad_sequences(encoded_docs, maxlen=200)"
      ],
      "execution_count": 24,
      "outputs": []
    },
    {
      "cell_type": "code",
      "metadata": {
        "id": "-xcccSLg7oy7"
      },
      "source": [
        "from tensorflow.keras.models import Sequential\n",
        "from tensorflow.keras.layers import LSTM,Dense, Dropout\n",
        "from tensorflow.keras.layers import SpatialDropout1D\n",
        "from tensorflow.keras.layers import Embedding\n",
        "from keras import Sequential"
      ],
      "execution_count": 25,
      "outputs": []
    },
    {
      "cell_type": "code",
      "metadata": {
        "id": "RZA7AYJI8v4M",
        "colab": {
          "base_uri": "https://localhost:8080/"
        },
        "outputId": "9b112ee9-50a6-447b-a0ff-f001e4199824"
      },
      "source": [
        "embedding_vector_length = 32\n",
        "model = Sequential()\n",
        "model.add(Embedding(vocab_size, embedding_vector_length,     \n",
        "                                     input_length=200) )\n",
        "model.add(SpatialDropout1D(0.25))\n",
        "model.add(LSTM(50, dropout=0.5, recurrent_dropout=0.5))\n",
        "model.add(Dropout(0.2))\n",
        "model.add(Dense(1, activation='sigmoid'))\n",
        "model.compile(loss='binary_crossentropy',optimizer='adam', \n",
        "                           metrics=['accuracy'])\n",
        "print(model.summary())"
      ],
      "execution_count": 26,
      "outputs": [
        {
          "output_type": "stream",
          "text": [
            "Model: \"sequential\"\n",
            "_________________________________________________________________\n",
            "Layer (type)                 Output Shape              Param #   \n",
            "=================================================================\n",
            "embedding (Embedding)        (None, 200, 32)           415296    \n",
            "_________________________________________________________________\n",
            "spatial_dropout1d (SpatialDr (None, 200, 32)           0         \n",
            "_________________________________________________________________\n",
            "lstm (LSTM)                  (None, 50)                16600     \n",
            "_________________________________________________________________\n",
            "dropout (Dropout)            (None, 50)                0         \n",
            "_________________________________________________________________\n",
            "dense (Dense)                (None, 1)                 51        \n",
            "=================================================================\n",
            "Total params: 431,947\n",
            "Trainable params: 431,947\n",
            "Non-trainable params: 0\n",
            "_________________________________________________________________\n",
            "None\n"
          ],
          "name": "stdout"
        }
      ]
    },
    {
      "cell_type": "code",
      "metadata": {
        "id": "vCElvZYX-HMT",
        "colab": {
          "base_uri": "https://localhost:8080/"
        },
        "outputId": "015df92a-9981-4fc4-dc88-9bc7d5d29195"
      },
      "source": [
        "sentiment_label=df_upsampled['label'].to_numpy()\n",
        "sentiment_label"
      ],
      "execution_count": 27,
      "outputs": [
        {
          "output_type": "execute_result",
          "data": {
            "text/plain": [
              "array([0, 0, 0, ..., 1, 1, 1])"
            ]
          },
          "metadata": {
            "tags": []
          },
          "execution_count": 27
        }
      ]
    },
    {
      "cell_type": "code",
      "metadata": {
        "id": "hlNDEsPRwtEp",
        "colab": {
          "base_uri": "https://localhost:8080/"
        },
        "outputId": "93371e6f-c862-43b3-c665-ed725acd29e2"
      },
      "source": [
        "print(len(padded_sequence))\n",
        "print(len(sentiment_label))"
      ],
      "execution_count": 28,
      "outputs": [
        {
          "output_type": "stream",
          "text": [
            "9920\n",
            "9920\n"
          ],
          "name": "stdout"
        }
      ]
    },
    {
      "cell_type": "code",
      "metadata": {
        "id": "80cbuBhSs3Zw",
        "colab": {
          "base_uri": "https://localhost:8080/"
        },
        "outputId": "614c7554-5b0f-41ae-ca7b-ac9eae552f93"
      },
      "source": [
        "from sklearn.model_selection import train_test_split\n",
        "\n",
        "X_train, X_test, y_train, y_test = train_test_split(padded_sequence, sentiment_label, test_size = 0.2, random_state = 0)\n",
        "X_test = np.array(X_test)\n",
        "y_test = np.array(y_test)\n",
        "print(X_test)\n",
        "print()\n",
        "print(y_test)"
      ],
      "execution_count": 29,
      "outputs": [
        {
          "output_type": "stream",
          "text": [
            "[[   0    0    0 ...  356 1218 1232]\n",
            " [   0    0    0 ...  470  122 1691]\n",
            " [   0    0    0 ...  326  659 1901]\n",
            " ...\n",
            " [   0    0    0 ...   42  621  786]\n",
            " [   0    0    0 ... 1873   27  576]\n",
            " [   0    0    0 ...   61  104  270]]\n",
            "\n",
            "[0 1 0 ... 0 1 0]\n"
          ],
          "name": "stdout"
        }
      ]
    },
    {
      "cell_type": "code",
      "metadata": {
        "id": "p3aVZS4H9Imc",
        "colab": {
          "base_uri": "https://localhost:8080/"
        },
        "outputId": "bd9d2c19-5d88-43f8-8e7d-e744d3d5d567"
      },
      "source": [
        "history = model.fit(padded_sequence,sentiment_label,\n",
        "                  validation_split=0.2, epochs=5, batch_size=64)"
      ],
      "execution_count": 30,
      "outputs": [
        {
          "output_type": "stream",
          "text": [
            "Epoch 1/5\n",
            "124/124 [==============================] - 30s 225ms/step - loss: 0.6585 - accuracy: 0.6262 - val_loss: 0.8393 - val_accuracy: 0.4536\n",
            "Epoch 2/5\n",
            "124/124 [==============================] - 27s 217ms/step - loss: 0.5035 - accuracy: 0.7466 - val_loss: 0.5585 - val_accuracy: 0.8065\n",
            "Epoch 3/5\n",
            "124/124 [==============================] - 27s 219ms/step - loss: 0.3621 - accuracy: 0.8406 - val_loss: 0.5515 - val_accuracy: 0.7838\n",
            "Epoch 4/5\n",
            "124/124 [==============================] - 27s 221ms/step - loss: 0.2950 - accuracy: 0.8755 - val_loss: 0.4817 - val_accuracy: 0.8327\n",
            "Epoch 5/5\n",
            "124/124 [==============================] - 27s 217ms/step - loss: 0.2453 - accuracy: 0.8977 - val_loss: 0.5317 - val_accuracy: 0.8352\n"
          ],
          "name": "stdout"
        }
      ]
    },
    {
      "cell_type": "code",
      "metadata": {
        "id": "p5RaP8aorhAs",
        "colab": {
          "base_uri": "https://localhost:8080/"
        },
        "outputId": "816c0b1f-fc5d-49b7-cc48-daa46fe4e2dd"
      },
      "source": [
        "results = model.evaluate(X_test, y_test)\n",
        "for name,value in zip(model.metrics_names, results):\n",
        "  print(f'{name}: {value}')"
      ],
      "execution_count": 31,
      "outputs": [
        {
          "output_type": "stream",
          "text": [
            "62/62 [==============================] - 2s 25ms/step - loss: 0.2863 - accuracy: 0.9022\n",
            "loss: 0.28627848625183105\n",
            "accuracy: 0.9022177457809448\n"
          ],
          "name": "stdout"
        }
      ]
    },
    {
      "cell_type": "code",
      "metadata": {
        "id": "Jm2PV9rz_7Rs",
        "colab": {
          "base_uri": "https://localhost:8080/"
        },
        "outputId": "2a5d7e08-07bd-481e-97a6-69c0df29b5a6"
      },
      "source": [
        "#sample_data = pd.read_excel(\"BE_Project.xlsx\")\n",
        "#testdata=sample_data.iloc[:50,0].values\n",
        "testdata=\"I am so happy\"\n",
        "testdata = process_tweet(testdata)\n",
        "#print(testdata)\n",
        "#for data in testdata:\n",
        "#test_word = data\n",
        "tw = tokenizer.texts_to_sequences([testdata]) #test_word\n",
        "tw = pad_sequences(tw,maxlen=200)\n",
        "prediction = int(model.predict(tw).round().item())\n",
        "if prediction==1: print(testdata+\"\\t\\t\"+ str(prediction)+\":\"+\"Suicidal\")\n",
        "else: print(testdata+\"\\t\\t\"+ str(prediction)+\":\"+\"Not Suicidal\")"
      ],
      "execution_count": 32,
      "outputs": [
        {
          "output_type": "stream",
          "text": [
            "happi\t\t0:Not Suicidal\n"
          ],
          "name": "stdout"
        }
      ]
    },
    {
      "cell_type": "code",
      "metadata": {
        "id": "m6-MFMvH2rFl"
      },
      "source": [
        "def predict(tweet):\n",
        "  clean_tweet = process_tweet(tweet)\n",
        "  tw = tokenizer.texts_to_sequences([clean_tweet]) #test_word\n",
        "  tw = pad_sequences(tw,maxlen=200)\n",
        "  prediction = int(model.predict(tw).round().item())\n",
        "  if prediction==1: print(clean_tweet+\"\\t\\t\"+ str(prediction)+\":\"+\"Suicidal\")\n",
        "  else: print(clean_tweet+\"\\t\\t\"+ str(prediction)+\":\"+\"Not Suicidal\")"
      ],
      "execution_count": 33,
      "outputs": []
    },
    {
      "cell_type": "code",
      "metadata": {
        "id": "oIE1vJul29wW",
        "colab": {
          "base_uri": "https://localhost:8080/"
        },
        "outputId": "34bd097d-f63d-4942-a6aa-8dded2655f5a"
      },
      "source": [
        "predict(\"This is so good\")"
      ],
      "execution_count": 34,
      "outputs": [
        {
          "output_type": "stream",
          "text": [
            "good\t\t0:Not Suicidal\n"
          ],
          "name": "stdout"
        }
      ]
    },
    {
      "cell_type": "code",
      "metadata": {
        "id": "gvpSEmXJp460",
        "colab": {
          "base_uri": "https://localhost:8080/"
        },
        "outputId": "775ccb38-1509-45a2-96ea-dab2533d83de"
      },
      "source": [
        "# serialize model to JSON\n",
        "model_json = model.to_json()\n",
        "with open(\"model_t.json\", \"w\") as json_file:\n",
        "    json_file.write(model_json)\n",
        "# serialize weights to HDF5\n",
        "model.save_weights(\"model_t.h5\")\n",
        "print(\"Saved model to disk\")\n",
        " \n",
        "# later...\n"
      ],
      "execution_count": 41,
      "outputs": [
        {
          "output_type": "stream",
          "text": [
            "Saved model to disk\n"
          ],
          "name": "stdout"
        }
      ]
    },
    {
      "cell_type": "code",
      "metadata": {
        "id": "1Lah6zZdiGS7"
      },
      "source": [
        "# from keras.models import model_from_json\n",
        "# # load json and create model\n",
        "# json_file = open('model_t.json', 'r')\n",
        "# loaded_model_json = json_file.read()\n",
        "# json_file.close()\n",
        "# loaded_model = model_from_json(loaded_model_json)\n",
        "# # load weights into new model\n",
        "# loaded_model.load_weights(\"model_t.h5\")\n",
        "# print(\"Loaded model from disk\")\n",
        "\n",
        "# loaded_model.predict(np.array([\"I am so fucking depressed\"]))"
      ],
      "execution_count": 36,
      "outputs": []
    },
    {
      "cell_type": "code",
      "metadata": {
        "id": "66jqD_QZXgKJ"
      },
      "source": [
        "#model.save('model_t.h5')"
      ],
      "execution_count": 37,
      "outputs": []
    },
    {
      "cell_type": "code",
      "metadata": {
        "id": "x0o4ETS3Xlvf"
      },
      "source": [
        "# import pickle\n",
        "# with open('tokenizer.pickle', 'wb') as handle:\n",
        "#     pickle.dump(tokenizer, handle, protocol=pickle.HIGHEST_PROTOCOL)"
      ],
      "execution_count": 38,
      "outputs": []
    },
    {
      "cell_type": "code",
      "metadata": {
        "id": "cC_1RcrUXo0v"
      },
      "source": [
        "# loaded_model = tf.keras.models.load_model('model_t.h5')\n",
        "# with open('tokenizer.pickle', 'rb') as handle:\n",
        "#     loaded_tokenizer = pickle.load(handle)"
      ],
      "execution_count": 39,
      "outputs": []
    },
    {
      "cell_type": "code",
      "metadata": {
        "id": "uCKBYYC2Xq2X"
      },
      "source": [
        "# txt=\"Check out this post on the number of people who suicided this year\"\n",
        "# seq= loaded_tokenizer.texts_to_sequences([txt])\n",
        "# padded = pad_sequences(seq, maxlen=200)\n",
        "# pred = model.predict_classes(padded)\n",
        "# print(pred)"
      ],
      "execution_count": 40,
      "outputs": []
    },
    {
      "cell_type": "code",
      "metadata": {
        "id": "_XF1shHGVKVC"
      },
      "source": [
        ""
      ],
      "execution_count": 40,
      "outputs": []
    }
  ]
}