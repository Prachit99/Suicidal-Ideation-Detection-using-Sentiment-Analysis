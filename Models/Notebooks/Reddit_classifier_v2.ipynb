{
  "nbformat": 4,
  "nbformat_minor": 0,
  "metadata": {
    "colab": {
      "name": "TransferLearning.ipynb",
      "provenance": [],
      "collapsed_sections": []
    },
    "kernelspec": {
      "name": "python3",
      "display_name": "Python 3"
    }
  },
  "cells": [
    {
      "cell_type": "code",
      "metadata": {
        "id": "7r-O4O6wLwrR"
      },
      "source": [
        "#%tensorflow_version 1.x"
      ],
      "execution_count": null,
      "outputs": []
    },
    {
      "cell_type": "markdown",
      "metadata": {
        "id": "EVSFetMo75h7"
      },
      "source": [
        "Importing Libraries"
      ]
    },
    {
      "cell_type": "code",
      "metadata": {
        "id": "G7QsJmvDTKGT"
      },
      "source": [
        "import tensorflow as tf\n",
        "\n",
        "from keras import Sequential\n",
        "from keras.layers import Dense, Reshape, Dropout"
      ],
      "execution_count": null,
      "outputs": []
    },
    {
      "cell_type": "markdown",
      "metadata": {
        "id": "RHbImHBi7_PM"
      },
      "source": [
        "Importing pre-trained model"
      ]
    },
    {
      "cell_type": "code",
      "metadata": {
        "id": "rjAGwLKO70WO",
        "colab": {
          "base_uri": "https://localhost:8080/"
        },
        "outputId": "f987a026-48ee-4be9-fa0a-c484f1dc4e0c"
      },
      "source": [
        "# import tensorflow_hub as hub\n",
        "\n",
        "# embed = hub.load(\"https://tfhub.dev/google/tf2-preview/nnlm-en-dim128/1\")\n",
        "# embeddings = embed([\"cat is on the mat\", \"dog is in the fog\"])\n",
        "# # print(embeddings)"
      ],
      "execution_count": null,
      "outputs": [
        {
          "output_type": "stream",
          "text": [
            "WARNING:tensorflow:8 out of the last 8 calls to <function recreate_function.<locals>.restored_function_body at 0x7fc3bf0e0e60> triggered tf.function retracing. Tracing is expensive and the excessive number of tracings could be due to (1) creating @tf.function repeatedly in a loop, (2) passing tensors with different shapes, (3) passing Python objects instead of tensors. For (1), please define your @tf.function outside of the loop. For (2), @tf.function has experimental_relax_shapes=True option that relaxes argument shapes that can avoid unnecessary retracing. For (3), please refer to https://www.tensorflow.org/guide/function#controlling_retracing and https://www.tensorflow.org/api_docs/python/tf/function for  more details.\n"
          ],
          "name": "stdout"
        },
        {
          "output_type": "stream",
          "text": [
            "WARNING:tensorflow:8 out of the last 8 calls to <function recreate_function.<locals>.restored_function_body at 0x7fc3bf0e0e60> triggered tf.function retracing. Tracing is expensive and the excessive number of tracings could be due to (1) creating @tf.function repeatedly in a loop, (2) passing tensors with different shapes, (3) passing Python objects instead of tensors. For (1), please define your @tf.function outside of the loop. For (2), @tf.function has experimental_relax_shapes=True option that relaxes argument shapes that can avoid unnecessary retracing. For (3), please refer to https://www.tensorflow.org/guide/function#controlling_retracing and https://www.tensorflow.org/api_docs/python/tf/function for  more details.\n"
          ],
          "name": "stderr"
        },
        {
          "output_type": "stream",
          "text": [
            "WARNING:tensorflow:9 out of the last 9 calls to <function recreate_function.<locals>.restored_function_body at 0x7fc3bf0e00e0> triggered tf.function retracing. Tracing is expensive and the excessive number of tracings could be due to (1) creating @tf.function repeatedly in a loop, (2) passing tensors with different shapes, (3) passing Python objects instead of tensors. For (1), please define your @tf.function outside of the loop. For (2), @tf.function has experimental_relax_shapes=True option that relaxes argument shapes that can avoid unnecessary retracing. For (3), please refer to https://www.tensorflow.org/guide/function#controlling_retracing and https://www.tensorflow.org/api_docs/python/tf/function for  more details.\n"
          ],
          "name": "stdout"
        },
        {
          "output_type": "stream",
          "text": [
            "WARNING:tensorflow:9 out of the last 9 calls to <function recreate_function.<locals>.restored_function_body at 0x7fc3bf0e00e0> triggered tf.function retracing. Tracing is expensive and the excessive number of tracings could be due to (1) creating @tf.function repeatedly in a loop, (2) passing tensors with different shapes, (3) passing Python objects instead of tensors. For (1), please define your @tf.function outside of the loop. For (2), @tf.function has experimental_relax_shapes=True option that relaxes argument shapes that can avoid unnecessary retracing. For (3), please refer to https://www.tensorflow.org/guide/function#controlling_retracing and https://www.tensorflow.org/api_docs/python/tf/function for  more details.\n"
          ],
          "name": "stderr"
        },
        {
          "output_type": "stream",
          "text": [
            "WARNING:tensorflow:10 out of the last 10 calls to <function recreate_function.<locals>.restored_function_body at 0x7fc3c1599680> triggered tf.function retracing. Tracing is expensive and the excessive number of tracings could be due to (1) creating @tf.function repeatedly in a loop, (2) passing tensors with different shapes, (3) passing Python objects instead of tensors. For (1), please define your @tf.function outside of the loop. For (2), @tf.function has experimental_relax_shapes=True option that relaxes argument shapes that can avoid unnecessary retracing. For (3), please refer to https://www.tensorflow.org/guide/function#controlling_retracing and https://www.tensorflow.org/api_docs/python/tf/function for  more details.\n"
          ],
          "name": "stdout"
        },
        {
          "output_type": "stream",
          "text": [
            "WARNING:tensorflow:10 out of the last 10 calls to <function recreate_function.<locals>.restored_function_body at 0x7fc3c1599680> triggered tf.function retracing. Tracing is expensive and the excessive number of tracings could be due to (1) creating @tf.function repeatedly in a loop, (2) passing tensors with different shapes, (3) passing Python objects instead of tensors. For (1), please define your @tf.function outside of the loop. For (2), @tf.function has experimental_relax_shapes=True option that relaxes argument shapes that can avoid unnecessary retracing. For (3), please refer to https://www.tensorflow.org/guide/function#controlling_retracing and https://www.tensorflow.org/api_docs/python/tf/function for  more details.\n"
          ],
          "name": "stderr"
        },
        {
          "output_type": "stream",
          "text": [
            "WARNING:tensorflow:11 out of the last 11 calls to <function recreate_function.<locals>.restored_function_body at 0x7fc3bf0dc320> triggered tf.function retracing. Tracing is expensive and the excessive number of tracings could be due to (1) creating @tf.function repeatedly in a loop, (2) passing tensors with different shapes, (3) passing Python objects instead of tensors. For (1), please define your @tf.function outside of the loop. For (2), @tf.function has experimental_relax_shapes=True option that relaxes argument shapes that can avoid unnecessary retracing. For (3), please refer to https://www.tensorflow.org/guide/function#controlling_retracing and https://www.tensorflow.org/api_docs/python/tf/function for  more details.\n"
          ],
          "name": "stdout"
        },
        {
          "output_type": "stream",
          "text": [
            "WARNING:tensorflow:11 out of the last 11 calls to <function recreate_function.<locals>.restored_function_body at 0x7fc3bf0dc320> triggered tf.function retracing. Tracing is expensive and the excessive number of tracings could be due to (1) creating @tf.function repeatedly in a loop, (2) passing tensors with different shapes, (3) passing Python objects instead of tensors. For (1), please define your @tf.function outside of the loop. For (2), @tf.function has experimental_relax_shapes=True option that relaxes argument shapes that can avoid unnecessary retracing. For (3), please refer to https://www.tensorflow.org/guide/function#controlling_retracing and https://www.tensorflow.org/api_docs/python/tf/function for  more details.\n"
          ],
          "name": "stderr"
        }
      ]
    },
    {
      "cell_type": "markdown",
      "metadata": {
        "id": "KGPdIlLf8HTC"
      },
      "source": [
        "Fine-tuning with custom layers"
      ]
    },
    {
      "cell_type": "code",
      "metadata": {
        "colab": {
          "base_uri": "https://localhost:8080/"
        },
        "id": "qmtzJA4SIrnz",
        "outputId": "4c314c34-fe7a-4fd4-9d37-89d09f552a08"
      },
      "source": [
        "# hub_layer = hub.KerasLayer(\"https://tfhub.dev/google/tf2-preview/nnlm-en-dim128/1\", output_shape=[128],\n",
        "#                            input_shape=[], dtype=tf.string)\n",
        "\n",
        "import tensorflow_hub as hub\n",
        "hub_layer = hub.KerasLayer(\"https://tfhub.dev/google/nnlm-en-dim50/2\",\n",
        "                           input_shape=[], dtype=tf.string)\n",
        "model = Sequential()\n",
        "model.add(hub_layer)\n",
        "\n",
        "model.add(Dense(64, activation='relu'))\n",
        "model.add(Dropout(0.2))\n",
        "model.add(Dense(32, activation='relu'))\n",
        "model.add(Dropout(0.2))\n",
        "model.add(Dense(16, activation='relu'))\n",
        "model.add(Dropout(0.2))\n",
        "model.add(Dense(1, activation='sigmoid'))\n",
        "model.summary()"
      ],
      "execution_count": null,
      "outputs": [
        {
          "output_type": "stream",
          "text": [
            "Model: \"sequential\"\n",
            "_________________________________________________________________\n",
            "Layer (type)                 Output Shape              Param #   \n",
            "=================================================================\n",
            "keras_layer (KerasLayer)     (None, 50)                48190600  \n",
            "_________________________________________________________________\n",
            "dense (Dense)                (None, 64)                3264      \n",
            "_________________________________________________________________\n",
            "dropout (Dropout)            (None, 64)                0         \n",
            "_________________________________________________________________\n",
            "dense_1 (Dense)              (None, 32)                2080      \n",
            "_________________________________________________________________\n",
            "dropout_1 (Dropout)          (None, 32)                0         \n",
            "_________________________________________________________________\n",
            "dense_2 (Dense)              (None, 16)                528       \n",
            "_________________________________________________________________\n",
            "dropout_2 (Dropout)          (None, 16)                0         \n",
            "_________________________________________________________________\n",
            "dense_3 (Dense)              (None, 1)                 17        \n",
            "=================================================================\n",
            "Total params: 48,196,489\n",
            "Trainable params: 5,889\n",
            "Non-trainable params: 48,190,600\n",
            "_________________________________________________________________\n"
          ],
          "name": "stdout"
        }
      ]
    },
    {
      "cell_type": "markdown",
      "metadata": {
        "id": "jidnCD4T823h"
      },
      "source": [
        "LSTM Layer (Fine-tuning) "
      ]
    },
    {
      "cell_type": "code",
      "metadata": {
        "id": "o5ej7XV-pBFi"
      },
      "source": [
        "# from keras.layers import LSTM, Bidirectional,\n",
        "# hub_layer = hub.KerasLayer(\"https://tfhub.dev/google/tf2-preview/nnlm-en-dim128/1\",\n",
        "#                            output_shape=[128],\n",
        "#                            input_shape=[],\n",
        "#                            dtype=tf.string)\n",
        "# model = Sequential()\n",
        "# model.add(hub_layer)\n",
        "# model.add(Reshape((128,1)))\n",
        "# model.add(Bidirectional(LSTM(128, activation='relu')))\n",
        "# # model.add(LSTM(64, activation='relu'))\n",
        "# # model.add(Dense(32, activation='relu'))\n",
        "# # model.add(Dense(8, activation='relu'))\n",
        "# model.add(Dense(1, activation='sigmoid'))\n",
        "# model.summary()"
      ],
      "execution_count": null,
      "outputs": []
    },
    {
      "cell_type": "markdown",
      "metadata": {
        "id": "czFNmVJ6-eJu"
      },
      "source": [
        "CNN (Fine-tuning)"
      ]
    },
    {
      "cell_type": "code",
      "metadata": {
        "id": "GuBslMF0-kAk"
      },
      "source": [
        "# from keras.layers import Conv1D, MaxPooling1D, LSTM\n",
        "# hub_layer = hub.KerasLayer(\"https://tfhub.dev/google/tf2-preview/nnlm-en-dim128/1\",\n",
        "#                            output_shape=[128],\n",
        "#                            input_shape=[],\n",
        "#                            dtype=tf.string)\n",
        "\n",
        "# model = Sequential()\n",
        "# model.add(hub_layer)\n",
        "# model.add(Reshape((128,1)))\n",
        "# model.add(Dropout(0.2))\n",
        "# model.add(Conv1D(64, 5, activation='relu'))\n",
        "# model.add(MaxPooling1D(pool_size=4))\n",
        "# model.add(LSTM(100))\n",
        "# model.add(Dense(1, activation='sigmoid'))"
      ],
      "execution_count": null,
      "outputs": []
    },
    {
      "cell_type": "code",
      "metadata": {
        "colab": {
          "base_uri": "https://localhost:8080/",
          "height": 212
        },
        "id": "vcAZQx-UVGGl",
        "outputId": "b718c2cf-5483-49d5-f0fe-6fdbbf7b3658"
      },
      "source": [
        "import numpy as np\n",
        "import pandas as pd\n",
        "from google.colab import drive\n",
        "drive.mount('/content/drive')\n",
        "path = \"drive/My Drive/reddit_data.csv\"\n",
        "df = pd.read_csv(path, encoding='ISO-8859-1')\n",
        "\n",
        "df.columns = ['title', 'data']\n",
        "df[\"post\"] = df[\"title\"] + df[\"data\"]\n",
        "df.head()"
      ],
      "execution_count": null,
      "outputs": [
        {
          "output_type": "stream",
          "text": [
            "Mounted at /content/drive\n"
          ],
          "name": "stdout"
        },
        {
          "output_type": "execute_result",
          "data": {
            "text/html": [
              "<div>\n",
              "<style scoped>\n",
              "    .dataframe tbody tr th:only-of-type {\n",
              "        vertical-align: middle;\n",
              "    }\n",
              "\n",
              "    .dataframe tbody tr th {\n",
              "        vertical-align: top;\n",
              "    }\n",
              "\n",
              "    .dataframe thead th {\n",
              "        text-align: right;\n",
              "    }\n",
              "</style>\n",
              "<table border=\"1\" class=\"dataframe\">\n",
              "  <thead>\n",
              "    <tr style=\"text-align: right;\">\n",
              "      <th></th>\n",
              "      <th>title</th>\n",
              "      <th>data</th>\n",
              "      <th>post</th>\n",
              "    </tr>\n",
              "  </thead>\n",
              "  <tbody>\n",
              "    <tr>\n",
              "      <th>0</th>\n",
              "      <td>New wiki on how to avoid accidentally encourag...</td>\n",
              "      <td>We've been seeing a worrying increase in pro-s...</td>\n",
              "      <td>New wiki on how to avoid accidentally encourag...</td>\n",
              "    </tr>\n",
              "    <tr>\n",
              "      <th>1</th>\n",
              "      <td>Please remember that NO ACTIVISM of any kind i...</td>\n",
              "      <td>Activism, i.e. advocating or fundraising for s...</td>\n",
              "      <td>Please remember that NO ACTIVISM of any kind i...</td>\n",
              "    </tr>\n",
              "    <tr>\n",
              "      <th>2</th>\n",
              "      <td>SuiCiDe iS a PerManeNt SolUtiOn tO a TemPorAry...</td>\n",
              "      <td>oh my god fuck off. i know they mean well but ...</td>\n",
              "      <td>SuiCiDe iS a PerManeNt SolUtiOn tO a TemPorAry...</td>\n",
              "    </tr>\n",
              "    <tr>\n",
              "      <th>3</th>\n",
              "      <td>Who the fuck created us and why do they want t...</td>\n",
              "      <td>I keep seeing new posts in this thread daily. ...</td>\n",
              "      <td>Who the fuck created us and why do they want t...</td>\n",
              "    </tr>\n",
              "    <tr>\n",
              "      <th>4</th>\n",
              "      <td>Am I the only person on this planet without an...</td>\n",
              "      <td>I didnât even ask to be this way, I wish I w...</td>\n",
              "      <td>Am I the only person on this planet without an...</td>\n",
              "    </tr>\n",
              "  </tbody>\n",
              "</table>\n",
              "</div>"
            ],
            "text/plain": [
              "                                               title  ...                                               post\n",
              "0  New wiki on how to avoid accidentally encourag...  ...  New wiki on how to avoid accidentally encourag...\n",
              "1  Please remember that NO ACTIVISM of any kind i...  ...  Please remember that NO ACTIVISM of any kind i...\n",
              "2  SuiCiDe iS a PerManeNt SolUtiOn tO a TemPorAry...  ...  SuiCiDe iS a PerManeNt SolUtiOn tO a TemPorAry...\n",
              "3  Who the fuck created us and why do they want t...  ...  Who the fuck created us and why do they want t...\n",
              "4  Am I the only person on this planet without an...  ...  Am I the only person on this planet without an...\n",
              "\n",
              "[5 rows x 3 columns]"
            ]
          },
          "metadata": {
            "tags": []
          },
          "execution_count": 3
        }
      ]
    },
    {
      "cell_type": "code",
      "metadata": {
        "colab": {
          "base_uri": "https://localhost:8080/"
        },
        "id": "pUwfKZcOWGPN",
        "outputId": "2b5aae79-cc24-44e2-9dcc-bb551a231e47"
      },
      "source": [
        "positive_posts = df.iloc[:989,2]\n",
        "positive_posts = list(positive_posts)\n",
        "\n",
        "negative_posts = df.iloc[989:,2]\n",
        "negative_posts = list(negative_posts)\n",
        "\n",
        "x = len(positive_posts)\n",
        "y = len(negative_posts)\n",
        "print(x, y)\n",
        "\n",
        "train_pos = positive_posts[(x//5):]\n",
        "test_pos = positive_posts[:(x//5)]\n",
        "train_neg = negative_posts[(y//5):]\n",
        "test_neg = negative_posts[:(y//5)]\n",
        "\n",
        "train_x = train_pos + train_neg \n",
        "test_x = test_pos + test_neg\n",
        "train_x = np.array(train_x)\n",
        "test_x = np.array(test_x)\n",
        "print(\"train_x.shape = \" + str(len(train_x)))\n",
        "print(\"test_x.shape = \" + str(len(test_x)))\n",
        "train_y = np.append(np.zeros((len(train_pos), 1)), np.ones((len(train_neg), 1)), axis=0)\n",
        "test_y = np.append(np.zeros((len(test_pos), 1)), np.ones((len(test_neg), 1)), axis=0)"
      ],
      "execution_count": null,
      "outputs": [
        {
          "output_type": "stream",
          "text": [
            "989 2000\n",
            "train_x.shape = 2392\n",
            "test_x.shape = 597\n"
          ],
          "name": "stdout"
        }
      ]
    },
    {
      "cell_type": "markdown",
      "metadata": {
        "id": "E67XLY-v98nx"
      },
      "source": [
        "Model Training "
      ]
    },
    {
      "cell_type": "code",
      "metadata": {
        "id": "v3sKYN4zU92e"
      },
      "source": [
        "model.compile(optimizer='adam',\n",
        "               loss='binary_crossentropy',\n",
        "               metrics=['accuracy'])"
      ],
      "execution_count": null,
      "outputs": []
    },
    {
      "cell_type": "code",
      "metadata": {
        "colab": {
          "base_uri": "https://localhost:8080/"
        },
        "id": "GTyXODMuVEwi",
        "outputId": "4585eb83-7a3b-4713-b048-c324470d9942"
      },
      "source": [
        "# train_x = tf.convert_to_tensor(train_x)\n",
        "# train_y = tf.convert_to_tensor(train_y)\n",
        "# test_x = tf.convert_to_tensor(test_x)\n",
        "# test_y = tf.convert_to_tensor(test_y)\n",
        "model.fit(train_x, train_y, epochs=5, batch_size=32, verbose=2)\n",
        "results = model.evaluate(test_x, test_y)\n",
        "for name,value in zip(model.metrics_names, results):\n",
        "  print(f'{name}: {value}')"
      ],
      "execution_count": null,
      "outputs": [
        {
          "output_type": "stream",
          "text": [
            "Epoch 1/5\n",
            "75/75 - 1s - loss: 0.4605 - accuracy: 0.8595\n",
            "Epoch 2/5\n",
            "75/75 - 0s - loss: 0.2068 - accuracy: 0.9507\n",
            "Epoch 3/5\n",
            "75/75 - 0s - loss: 0.2025 - accuracy: 0.9553\n",
            "Epoch 4/5\n",
            "75/75 - 0s - loss: 0.1925 - accuracy: 0.9561\n",
            "Epoch 5/5\n",
            "75/75 - 0s - loss: 0.1897 - accuracy: 0.9574\n",
            "19/19 [==============================] - 0s 2ms/step - loss: 0.1800 - accuracy: 0.9397\n",
            "loss: 0.17998002469539642\n",
            "accuracy: 0.9396985173225403\n"
          ],
          "name": "stdout"
        }
      ]
    },
    {
      "cell_type": "markdown",
      "metadata": {
        "id": "QiI682m1-LIS"
      },
      "source": [
        "Model Testing"
      ]
    },
    {
      "cell_type": "code",
      "metadata": {
        "colab": {
          "base_uri": "https://localhost:8080/"
        },
        "id": "3qZDeZqlaUe1",
        "outputId": "71e07256-22ad-4dd7-8f07-a392ac7ae18c"
      },
      "source": [
        "model.predict(np.array([\"is it strange when a part of you wishes to get corona with the hope to die?\",\n",
        "                        \"Why do I even fucking bother anymore. My existence is a mistake.\",\n",
        "                        \"depression is so frustrating.\",\n",
        "                        \"Tricking the novel coronavirus with a fake “handshake”: Scientists have found a way to trick the novel coronavirus into binding with a protein fragment that resembles a friendly receptor, effectively inactivating SARS-CoV-2 before it can infect a cell.\",\n",
        "                        \"I know everyone despised CoD ghosts but let’s be honest this was the funniest and best thing ever added to a CoD game ever!\",\n",
        "                        \"Orange deck of playing cards cut into a 3D design using just an xacto knife. This is the most detailed cut of a deck of playing cards I have done so far.\",\n",
        "                        \"This ice-cream is good\",\n",
        "                        \"I am Happy today\",\n",
        "                        \"you guys have no idea how beautiful it has been to have someone come out of blue and help me fix my broken heart..last week I was in a deep hole in my depression wanting to kill myself..and fast forward now I’m extremely happy..it’s true when they say to trust the process\",\n",
        "                        \"If I don’t talk to y’all the next few days, it’s because not being in school is going to give me way too much time to think and I’m most definitely going to overthink my entire life and enter a very depressive state. Thanks for understanding.\",\n",
        "                        \"I don't want to live anymore\",\n",
        "                        \"So i started working two and a half years ago, everybody was always asking me if im fine, and i always say, yeah sure. But to be honest, im sick of all this shit, this society is all about money, nobody wanna really hear what you got to say, my parents are always judging me, my whole life they where almost never emotional on my side, so i got no relation to them, even tho i got to act like that, cause society doesnt want anything else, im sick off all this weight on my shoulders, this pressure, im was a happy person a long time ago, now i am most of the time down and depressed on the inside, but happy on the outside. One of the only things that really does some kind fun is smoking weed, because my mind is so focused on the moment, and i go out into nature and dont think about other humans anymore. Im only 18, but i feel like im sick of my life already, most of the time i just want to end my current life\",\n",
        "                        \"I hate everything about this world. I want to end it so badly.\"]))"
      ],
      "execution_count": null,
      "outputs": [
        {
          "output_type": "execute_result",
          "data": {
            "text/plain": [
              "array([[0.26087165],\n",
              "       [0.13664562],\n",
              "       [0.21931595],\n",
              "       [0.478302  ],\n",
              "       [0.203697  ],\n",
              "       [0.65375787],\n",
              "       [0.5624743 ],\n",
              "       [0.2358202 ],\n",
              "       [0.24501544],\n",
              "       [0.18073711],\n",
              "       [0.14704582],\n",
              "       [0.03632087],\n",
              "       [0.1694014 ]], dtype=float32)"
            ]
          },
          "metadata": {
            "tags": []
          },
          "execution_count": 7
        }
      ]
    },
    {
      "cell_type": "code",
      "metadata": {
        "colab": {
          "base_uri": "https://localhost:8080/"
        },
        "id": "HMEoYF1KJUoN",
        "outputId": "b555cd77-1ba2-4769-fcca-e994dc4ae32b"
      },
      "source": [
        "model.predict(np.array([\"Can't wait to have fun tomorrow. It's going to be best day of my life\",\n",
        "                        \"Can't live anymore\",\n",
        "                        \"I am Happy so today\",\n",
        "                        \"Messi is the best player on this planet and there is no doubt about it\",\n",
        "                        \"India is the best country in the world\"]))"
      ],
      "execution_count": null,
      "outputs": [
        {
          "output_type": "execute_result",
          "data": {
            "text/plain": [
              "array([[0.12990788],\n",
              "       [0.18387955],\n",
              "       [0.2002984 ],\n",
              "       [0.39747134],\n",
              "       [0.55525947]], dtype=float32)"
            ]
          },
          "metadata": {
            "tags": []
          },
          "execution_count": 10
        }
      ]
    },
    {
      "cell_type": "code",
      "metadata": {
        "colab": {
          "base_uri": "https://localhost:8080/"
        },
        "id": "AD-T3yPsXLN-",
        "outputId": "7a21369a-1dd6-4512-9ded-7678e8323085"
      },
      "source": [
        "# serialize model to JSON\n",
        "model_json = model.to_json()\n",
        "with open(\"model_t.json\", \"w\") as json_file:\n",
        "    json_file.write(model_json)\n",
        "# serialize weights to HDF5\n",
        "model.save_weights(\"model_t.h5\")\n",
        "print(\"Saved model to disk\")\n",
        " \n",
        "# later...\n"
      ],
      "execution_count": null,
      "outputs": [
        {
          "output_type": "stream",
          "text": [
            "Saved model to disk\n"
          ],
          "name": "stdout"
        }
      ]
    },
    {
      "cell_type": "code",
      "metadata": {
        "id": "bGwfjsy_Ib3O"
      },
      "source": [
        "import dill\n",
        "filename = 'reddit_classifier.sav'\n",
        "with open(filename, 'wb') as pickle_file:\n",
        "  dill.dump(all, pickle_file)"
      ],
      "execution_count": null,
      "outputs": []
    },
    {
      "cell_type": "markdown",
      "metadata": {
        "id": "Plkj6_6BfrMQ"
      },
      "source": [
        "BERT model"
      ]
    },
    {
      "cell_type": "code",
      "metadata": {
        "id": "GZ1cem59fuQ8"
      },
      "source": [
        "# !pip install transformers\n",
        "# from transformers import BertTokenizer, TFBertForSequenceClassification\n",
        "# from transformers import InputExample, InputFeatures\n",
        "\n",
        "# model = TFBertForSequenceClassification.from_pretrained(\"bert-base-uncased\")\n",
        "# tokenizer = BertTokenizer.from_pretrained(\"bert-base-uncased\")"
      ],
      "execution_count": null,
      "outputs": []
    },
    {
      "cell_type": "code",
      "metadata": {
        "id": "b7vWB6CugNqb"
      },
      "source": [
        "# model.summary()"
      ],
      "execution_count": null,
      "outputs": []
    },
    {
      "cell_type": "code",
      "metadata": {
        "id": "slnqPcN0gMIV"
      },
      "source": [
        "# import tensorflow as tf\n",
        "# import pandas as pd"
      ],
      "execution_count": null,
      "outputs": []
    }
  ]
}